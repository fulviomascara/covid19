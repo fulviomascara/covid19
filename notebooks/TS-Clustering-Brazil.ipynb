{
 "cells": [
  {
   "cell_type": "markdown",
   "metadata": {},
   "source": [
    "## Teste das bibliotecas de Clustering de Time-Series"
   ]
  },
  {
   "cell_type": "code",
   "execution_count": 1,
   "metadata": {},
   "outputs": [],
   "source": [
    "from dtaidistance import dtw\n",
    "from dtaidistance import dtw_visualisation as dtwvis\n",
    "from dtaidistance import clustering\n",
    "from pyspark import SparkConf, SparkContext\n",
    "from pyspark.sql import SQLContext\n",
    "from pyspark.sql.types import *\n",
    "import pyspark.sql.functions as F\n",
    "from pyspark.sql.functions import row_number\n",
    "from pyspark.sql.window import Window\n",
    "from pyspark.sql.functions import col\n",
    "import numpy as np\n",
    "import pandas as pd"
   ]
  },
  {
   "cell_type": "code",
   "execution_count": 2,
   "metadata": {},
   "outputs": [],
   "source": [
    "# criar contexto e configuração para o Spark\n",
    "conf = SparkConf().setAppName(\"Covid-19 BRAZIL\")\n",
    "sc = SparkContext(conf=conf)\n",
    "sqlContext = SQLContext(sc)"
   ]
  },
  {
   "cell_type": "code",
   "execution_count": 3,
   "metadata": {},
   "outputs": [],
   "source": [
    "# ler arquivo de registro em cartorio de obitos de pessoas naturais\n",
    "obito_cartorio = sqlContext.read.csv('../datasets/obito_cartorio.csv', \n",
    "                                     sep=',', \n",
    "                                     header=True)\n",
    "obito_cartorio = obito_cartorio.select(\"date\",\"state\",\"deaths_covid19\", \"new_deaths_covid19\")"
   ]
  },
  {
   "cell_type": "code",
   "execution_count": 14,
   "metadata": {},
   "outputs": [],
   "source": [
    "from datetime import datetime\n",
    "today = str(datetime.today().strftime('%Y-%m-%d'))\n",
    "date_first_case = '2020-03-01'\n",
    "obito_cartorio = obito_cartorio.filter(obito_cartorio.date >= date_first_case)\n",
    "obito_cartorio = obito_cartorio.filter(obito_cartorio.date <= today)"
   ]
  },
  {
   "cell_type": "code",
   "execution_count": 15,
   "metadata": {},
   "outputs": [
    {
     "name": "stdout",
     "output_type": "stream",
     "text": [
      "+-------+----------+-----+-----------------+------------------+\n",
      "|summary|      date|state|   deaths_covid19|new_deaths_covid19|\n",
      "+-------+----------+-----+-----------------+------------------+\n",
      "|  count|      2376| 2376|             2376|              2376|\n",
      "|   mean|      null| null| 235.618265993266| 9.734848484848484|\n",
      "| stddev|      null| null|842.2509026768068|29.184804658700543|\n",
      "|    min|2020-03-01|   AC|                0|                 0|\n",
      "|    25%|      null| null|              0.0|               0.0|\n",
      "|    50%|      null| null|              2.0|               1.0|\n",
      "|    75%|      null| null|             82.0|               5.0|\n",
      "|    max|2020-05-27|   TO|               99|                98|\n",
      "+-------+----------+-----+-----------------+------------------+\n",
      "\n"
     ]
    }
   ],
   "source": [
    "obito_cartorio = obito_cartorio.fillna({'deaths_covid19':0})\n",
    "obito_cartorio = obito_cartorio.fillna({'new_deaths_covid19':0})\n",
    "obito_cartorio.summary().show()"
   ]
  },
  {
   "cell_type": "code",
   "execution_count": 16,
   "metadata": {},
   "outputs": [
    {
     "data": {
      "text/html": [
       "<div>\n",
       "<style scoped>\n",
       "    .dataframe tbody tr th:only-of-type {\n",
       "        vertical-align: middle;\n",
       "    }\n",
       "\n",
       "    .dataframe tbody tr th {\n",
       "        vertical-align: top;\n",
       "    }\n",
       "\n",
       "    .dataframe thead th {\n",
       "        text-align: right;\n",
       "    }\n",
       "</style>\n",
       "<table border=\"1\" class=\"dataframe\">\n",
       "  <thead>\n",
       "    <tr style=\"text-align: right;\">\n",
       "      <th></th>\n",
       "      <th>date</th>\n",
       "      <th>state</th>\n",
       "      <th>deaths_covid19</th>\n",
       "      <th>new_deaths_covid19</th>\n",
       "    </tr>\n",
       "  </thead>\n",
       "  <tbody>\n",
       "    <tr>\n",
       "      <th>0</th>\n",
       "      <td>2020-05-27</td>\n",
       "      <td>AC</td>\n",
       "      <td>0</td>\n",
       "      <td>0</td>\n",
       "    </tr>\n",
       "    <tr>\n",
       "      <th>1</th>\n",
       "      <td>2020-05-27</td>\n",
       "      <td>AL</td>\n",
       "      <td>0</td>\n",
       "      <td>0</td>\n",
       "    </tr>\n",
       "    <tr>\n",
       "      <th>2</th>\n",
       "      <td>2020-05-27</td>\n",
       "      <td>AM</td>\n",
       "      <td>0</td>\n",
       "      <td>0</td>\n",
       "    </tr>\n",
       "    <tr>\n",
       "      <th>3</th>\n",
       "      <td>2020-05-27</td>\n",
       "      <td>AP</td>\n",
       "      <td>0</td>\n",
       "      <td>0</td>\n",
       "    </tr>\n",
       "    <tr>\n",
       "      <th>4</th>\n",
       "      <td>2020-05-27</td>\n",
       "      <td>BA</td>\n",
       "      <td>0</td>\n",
       "      <td>0</td>\n",
       "    </tr>\n",
       "    <tr>\n",
       "      <th>...</th>\n",
       "      <td>...</td>\n",
       "      <td>...</td>\n",
       "      <td>...</td>\n",
       "      <td>...</td>\n",
       "    </tr>\n",
       "    <tr>\n",
       "      <th>2371</th>\n",
       "      <td>2020-03-01</td>\n",
       "      <td>RS</td>\n",
       "      <td>0</td>\n",
       "      <td>0</td>\n",
       "    </tr>\n",
       "    <tr>\n",
       "      <th>2372</th>\n",
       "      <td>2020-03-01</td>\n",
       "      <td>SC</td>\n",
       "      <td>0</td>\n",
       "      <td>0</td>\n",
       "    </tr>\n",
       "    <tr>\n",
       "      <th>2373</th>\n",
       "      <td>2020-03-01</td>\n",
       "      <td>SE</td>\n",
       "      <td>0</td>\n",
       "      <td>0</td>\n",
       "    </tr>\n",
       "    <tr>\n",
       "      <th>2374</th>\n",
       "      <td>2020-03-01</td>\n",
       "      <td>SP</td>\n",
       "      <td>0</td>\n",
       "      <td>0</td>\n",
       "    </tr>\n",
       "    <tr>\n",
       "      <th>2375</th>\n",
       "      <td>2020-03-01</td>\n",
       "      <td>TO</td>\n",
       "      <td>0</td>\n",
       "      <td>0</td>\n",
       "    </tr>\n",
       "  </tbody>\n",
       "</table>\n",
       "<p>2376 rows × 4 columns</p>\n",
       "</div>"
      ],
      "text/plain": [
       "            date state deaths_covid19 new_deaths_covid19\n",
       "0     2020-05-27    AC              0                  0\n",
       "1     2020-05-27    AL              0                  0\n",
       "2     2020-05-27    AM              0                  0\n",
       "3     2020-05-27    AP              0                  0\n",
       "4     2020-05-27    BA              0                  0\n",
       "...          ...   ...            ...                ...\n",
       "2371  2020-03-01    RS              0                  0\n",
       "2372  2020-03-01    SC              0                  0\n",
       "2373  2020-03-01    SE              0                  0\n",
       "2374  2020-03-01    SP              0                  0\n",
       "2375  2020-03-01    TO              0                  0\n",
       "\n",
       "[2376 rows x 4 columns]"
      ]
     },
     "execution_count": 16,
     "metadata": {},
     "output_type": "execute_result"
    }
   ],
   "source": [
    "# converte colunas de datas em linhas com melt\n",
    "obito_cartorio_pd = obito_cartorio.toPandas()\n",
    "obito_cartorio_pd"
   ]
  },
  {
   "cell_type": "code",
   "execution_count": 17,
   "metadata": {},
   "outputs": [],
   "source": [
    "# converte tipos das colunas para os formatos corretos\n",
    "obito_cartorio_pd.date = pd.to_datetime(obito_cartorio_pd.date)\n",
    "obito_cartorio_pd.new_deaths_covid19 = obito_cartorio_pd.new_deaths_covid19.astype(int)\n",
    "obito_cartorio_pd.deaths_covid19 = obito_cartorio_pd.deaths_covid19.astype(int)"
   ]
  },
  {
   "cell_type": "code",
   "execution_count": 18,
   "metadata": {},
   "outputs": [],
   "source": [
    "# Recria Spark dataframes, com estrtutura nova\n",
    "schema_jhu = StructType([StructField('date', TimestampType(), True),\n",
    "                         StructField('state', StringType(), True),\n",
    "                         StructField('deaths_covid19', IntegerType(), True),\n",
    "                         StructField('new_deaths_covid19', IntegerType(), True)])\n",
    "\n",
    "OC = sqlContext.createDataFrame(obito_cartorio_pd, schema=schema_jhu)"
   ]
  },
  {
   "cell_type": "code",
   "execution_count": 19,
   "metadata": {},
   "outputs": [],
   "source": [
    "# Criar coluna com qtde_dias desde o ínicio, pra cada país\n",
    "column_list = ['state', 'new_deaths_covid19', 'deaths_covid19']\n",
    "OC = OC.select(\"state\",\"new_deaths_covid19\", \"deaths_covid19\",\n",
    "               F.row_number().over(Window.partitionBy([col(x) for x in column_list])\\\n",
    "                                   .orderBy(OC['date'])).alias(\"num_days\"))"
   ]
  },
  {
   "cell_type": "code",
   "execution_count": 20,
   "metadata": {},
   "outputs": [],
   "source": [
    "# Criar Janela de Dados por País, Província e Numero de Dias (poderia ser a data também)\n",
    "my_window = Window.partitionBy(\"state\").orderBy(\"num_days\")"
   ]
  },
  {
   "cell_type": "code",
   "execution_count": 21,
   "metadata": {},
   "outputs": [],
   "source": [
    "# criar um dataframe, convertendo num_days em colunas (pivot)\n",
    "clustering_pivot_df = OC.groupby(\"state\").pivot(\"num_days\").sum(\"new_deaths_covid19\")"
   ]
  },
  {
   "cell_type": "code",
   "execution_count": 22,
   "metadata": {},
   "outputs": [
    {
     "data": {
      "text/plain": [
       "(27, 77)"
      ]
     },
     "execution_count": 22,
     "metadata": {},
     "output_type": "execute_result"
    }
   ],
   "source": [
    "#clustering_array_np = np.array(clustering_pivot_df.select(clustering_pivot_df.columns[1:]).limit(20).collect(), dtype=np.double)\n",
    "clustering_array_np = np.array(clustering_pivot_df.select(clustering_pivot_df.columns[1:]).collect(), dtype=np.double)\n",
    "clustering_array_np.shape"
   ]
  },
  {
   "cell_type": "code",
   "execution_count": 23,
   "metadata": {},
   "outputs": [],
   "source": [
    "# imprimir array sem notação científica\n",
    "np.set_printoptions(suppress=True)"
   ]
  },
  {
   "cell_type": "code",
   "execution_count": null,
   "metadata": {},
   "outputs": [
    {
     "name": "stderr",
     "output_type": "stream",
     "text": [
      "1629986it [00:44, 36182.96it/s]       "
     ]
    }
   ],
   "source": [
    "# Clustering\n",
    "model1 = clustering.Hierarchical(dtw.distance_matrix_fast, {})\n",
    "cluster_idx1 = model1.fit(clustering_array_np)"
   ]
  },
  {
   "cell_type": "code",
   "execution_count": null,
   "metadata": {},
   "outputs": [],
   "source": [
    "# Augment Hierarchical object to keep track of the full tree\n",
    "model2 = clustering.HierarchicalTree(model1)\n",
    "cluster_idx2 = model2.fit(clustering_array_np)"
   ]
  },
  {
   "cell_type": "code",
   "execution_count": null,
   "metadata": {},
   "outputs": [],
   "source": [
    "# SciPy linkage clustering\n",
    "model3 = clustering.LinkageTree(dtw.distance_matrix_fast, {})\n",
    "cluster_idx3 = model3.fit(clustering_array_np)"
   ]
  },
  {
   "cell_type": "code",
   "execution_count": null,
   "metadata": {},
   "outputs": [],
   "source": [
    "#model3.plot(\"plot.png\")\n",
    "model1.plot()\n",
    "model2.plot()\n",
    "model3.plot()"
   ]
  }
 ],
 "metadata": {
  "kernelspec": {
   "display_name": "Python 3",
   "language": "python",
   "name": "python3"
  },
  "language_info": {
   "codemirror_mode": {
    "name": "ipython",
    "version": 3
   },
   "file_extension": ".py",
   "mimetype": "text/x-python",
   "name": "python",
   "nbconvert_exporter": "python",
   "pygments_lexer": "ipython3",
   "version": "3.7.6"
  }
 },
 "nbformat": 4,
 "nbformat_minor": 4
}
