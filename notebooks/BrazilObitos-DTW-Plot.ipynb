{
 "cells": [
  {
   "cell_type": "code",
   "execution_count": 4,
   "metadata": {},
   "outputs": [],
   "source": [
    "import pandas as pd\n",
    "from datetime import datetime\n",
    "from dtaidistance import dtw\n",
    "from dtaidistance import dtw_visualisation as dtwvis\n",
    "import numpy as np"
   ]
  },
  {
   "cell_type": "code",
   "execution_count": 5,
   "metadata": {},
   "outputs": [],
   "source": [
    "date_first_case = '2020-03-15'\n",
    "today = str(datetime.today().strftime('%Y-%m-%d'))\n",
    "df = pd.read_csv(\"../datasets/obito_cartorio.csv\")\n",
    "df = df.filter([\"date\", \"state\", \"new_deaths_covid19\"]).fillna(0)\n",
    "df = df.sort_values(by=['date','state'])\n",
    "df = df.loc[(df['date'] >= date_first_case) & (df['date'] <= today)]\n",
    "obito_cartorio_pd = df"
   ]
  },
  {
   "cell_type": "code",
   "execution_count": 6,
   "metadata": {},
   "outputs": [
    {
     "name": "stdout",
     "output_type": "stream",
     "text": [
      "state_list:  27 ['AC', 'AL', 'AM', 'AP', 'BA', 'CE', 'DF', 'ES', 'GO', 'MA', 'MG', 'MS', 'MT', 'PA', 'PB', 'PE', 'PI', 'PR', 'RJ', 'RN', 'RO', 'RR', 'RS', 'SC', 'SE', 'SP', 'TO']\n"
     ]
    }
   ],
   "source": [
    "def unique(list1): \n",
    "    unique_list = dict()\n",
    "    for x in list1: \n",
    "        unique_list[x] = x\n",
    "    return sorted(list(unique_list.keys()))\n",
    "state_list = unique(list(np.array(obito_cartorio_pd[\"state\"])))\n",
    "print(\"state_list: \", len(state_list), state_list)"
   ]
  },
  {
   "cell_type": "code",
   "execution_count": 7,
   "metadata": {},
   "outputs": [],
   "source": [
    "states_norm = dict()\n",
    "for state in state_list:\n",
    "    data = np.array(obito_cartorio_pd.loc[obito_cartorio_pd['state'] == state][\"new_deaths_covid19\"])\n",
    "    max_val = max(data)\n",
    "    states_norm[state] = data / max_val"
   ]
  },
  {
   "cell_type": "code",
   "execution_count": 8,
   "metadata": {},
   "outputs": [],
   "source": [
    "for A in state_list:\n",
    "    for B in state_list:\n",
    "        if A == B:\n",
    "            continue\n",
    "        path = dtw.warping_path(states_norm[A], states_norm[B])\n",
    "        dtwvis.plot_warping(s1=states_norm[A], s2=states_norm[B], path=path, filename=\"ESTADOS/{}_{}.jpg\".format(A,B));"
   ]
  },
  {
   "cell_type": "code",
   "execution_count": null,
   "metadata": {},
   "outputs": [],
   "source": []
  }
 ],
 "metadata": {
  "kernelspec": {
   "display_name": "Python 3",
   "language": "python",
   "name": "python3"
  },
  "language_info": {
   "codemirror_mode": {
    "name": "ipython",
    "version": 3
   },
   "file_extension": ".py",
   "mimetype": "text/x-python",
   "name": "python",
   "nbconvert_exporter": "python",
   "pygments_lexer": "ipython3",
   "version": "3.7.6"
  }
 },
 "nbformat": 4,
 "nbformat_minor": 4
}
